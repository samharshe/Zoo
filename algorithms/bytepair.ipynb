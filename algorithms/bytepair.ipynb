{
 "cells": [
  {
   "cell_type": "code",
   "execution_count": 85,
   "metadata": {},
   "outputs": [],
   "source": [
    "from typing import Dict, Tuple\n",
    "from collections import defaultdict\n",
    "import string\n",
    "\n",
    "def bytepair(s: str) -> Tuple[str, Dict]:\n",
    "    # initialize values to be returned\n",
    "    s_prime = s\n",
    "    out = {}\n",
    "    for rep in string.ascii_uppercase[::-1]:\n",
    "        # make a dict of frequency of occurrence of every pair\n",
    "        freq = defaultdict(int)\n",
    "        for x, y in zip(s_prime, s_prime[1:]): \n",
    "            pair = x+y\n",
    "            freq[pair] += 1\n",
    "        # save pair that occurred the most times\n",
    "        most_frequent_pair = max(freq, key=freq.get)\n",
    "        # no compression possible if every pair appears only once\n",
    "        if freq[most_frequent_pair] == 1:\n",
    "            return s_prime, out\n",
    "        else:\n",
    "            # replace the pair with a byte not used\n",
    "            s_prime = s_prime.replace(most_frequent_pair, rep)\n",
    "            # update the dictionary\n",
    "            out[most_frequent_pair] = rep"
   ]
  },
  {
   "cell_type": "code",
   "execution_count": 86,
   "metadata": {},
   "outputs": [
    {
     "name": "stdout",
     "output_type": "stream",
     "text": [
      "('XdXac', {'aa': 'Z', 'Za': 'Y', 'Yb': 'X'})\n"
     ]
    }
   ],
   "source": [
    "print(bytepair('aaabdaaabac'))"
   ]
  }
 ],
 "metadata": {
  "kernelspec": {
   "display_name": "GDL",
   "language": "python",
   "name": "python3"
  },
  "language_info": {
   "codemirror_mode": {
    "name": "ipython",
    "version": 3
   },
   "file_extension": ".py",
   "mimetype": "text/x-python",
   "name": "python",
   "nbconvert_exporter": "python",
   "pygments_lexer": "ipython3",
   "version": "3.11.9"
  }
 },
 "nbformat": 4,
 "nbformat_minor": 2
}

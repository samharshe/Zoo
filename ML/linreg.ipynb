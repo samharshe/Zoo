{
 "cells": [
  {
   "cell_type": "markdown",
   "metadata": {},
   "source": [
    "# linear regression: the basic of the basic."
   ]
  },
  {
   "cell_type": "code",
   "execution_count": 57,
   "metadata": {},
   "outputs": [],
   "source": [
    "import random\n",
    "import matplotlib.pyplot as plt"
   ]
  },
  {
   "cell_type": "code",
   "execution_count": 58,
   "metadata": {},
   "outputs": [],
   "source": [
    "num_epochs = 100\n",
    "m, b = 5, 2\n",
    "\n",
    "dataset = [random.random() for _ in range(100)]\n",
    "dataset = [[x,m*x+b] for x in dataset]"
   ]
  },
  {
   "cell_type": "code",
   "execution_count": 59,
   "metadata": {},
   "outputs": [],
   "source": [
    "class Linear():\n",
    "    def __init__(self, learning_rate):\n",
    "        self.m = random.random() * 4 - 1\n",
    "        self.b = random.random() * 4 - 1\n",
    "        self.learning_rate = learning_rate\n",
    "    \n",
    "    def forward(self, x: int):\n",
    "        return self.m * x + self.b\n",
    "    \n",
    "    def update(self, d_loss: int, x: int):\n",
    "        self.m -= 2 * d_loss * x * self.learning_rate\n",
    "        self.b -= 2 * d_loss * self.learning_rate"
   ]
  },
  {
   "cell_type": "code",
   "execution_count": 60,
   "metadata": {},
   "outputs": [],
   "source": [
    "def loss_fn(y, y_hat):\n",
    "    loss = (y_hat - y)**2\n",
    "    d_loss = y_hat - y\n",
    "    return loss, d_loss"
   ]
  },
  {
   "cell_type": "code",
   "execution_count": 61,
   "metadata": {},
   "outputs": [],
   "source": [
    "model = Linear(learning_rate=0.01)\n",
    "\n",
    "losses = []\n",
    "ms = []\n",
    "bs = []"
   ]
  },
  {
   "cell_type": "code",
   "execution_count": 62,
   "metadata": {},
   "outputs": [],
   "source": [
    "for _ in range(num_epochs):\n",
    "    for data in dataset:\n",
    "        x = data[0]\n",
    "        y = data[1]\n",
    "        \n",
    "        y_hat = model.forward(x)\n",
    "        loss, d_loss = loss_fn(y, y_hat)\n",
    "        \n",
    "        model.update(d_loss, x)\n",
    "        \n",
    "        losses.append(loss)\n",
    "        ms.append(model.m)\n",
    "        bs.append(model.b)"
   ]
  },
  {
   "cell_type": "code",
   "execution_count": 63,
   "metadata": {},
   "outputs": [
    {
     "data": {
      "image/png": "[encoded data removed]",
      "text/plain": [
       "<Figure size 640x480 with 1 Axes>"
      ]
     },
     "metadata": {},
     "output_type": "display_data"
    }
   ],
   "source": [
    "xs = range(len(losses))\n",
    "plt.plot(xs, ms)\n",
    "plt.plot(xs, bs)\n",
    "plt.plot(xs, losses)\n",
    "plt.show()"
   ]
  }
 ],
 "metadata": {
  "kernelspec": {
   "display_name": "GDL",
   "language": "python",
   "name": "python3"
  },
  "language_info": {
   "codemirror_mode": {
    "name": "ipython",
    "version": 3
   },
   "file_extension": ".py",
   "mimetype": "text/x-python",
   "name": "python",
   "nbconvert_exporter": "python",
   "pygments_lexer": "ipython3",
   "version": "3.11.8"
  }
 },
 "nbformat": 4,
 "nbformat_minor": 2
}
